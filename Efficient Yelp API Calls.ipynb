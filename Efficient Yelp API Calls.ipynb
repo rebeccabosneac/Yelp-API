{
 "cells": [
  {
   "cell_type": "code",
   "execution_count": 1,
   "id": "7ebe848b-d17a-42bd-a844-4c0d62680590",
   "metadata": {},
   "outputs": [],
   "source": [
    "# Standard Imports\n",
    "import numpy as np\n",
    "import pandas as pd\n",
    "import matplotlib.pyplot as plt\n",
    "import seaborn as sns\n",
    "# Additional Imports\n",
    "import os, json, math, time\n",
    "from yelpapi import YelpAPI\n",
    "from tqdm.notebook import tqdm_notebook"
   ]
  },
  {
   "cell_type": "code",
   "execution_count": 2,
   "id": "6c4e5e7e-3ee9-4c0f-a0a2-9a0d15fe1e47",
   "metadata": {},
   "outputs": [],
   "source": [
    "# Load API Credentials\n",
    "with open(r'\\Users\\romo_\\.secret\\yelp_api.json') as f:\n",
    "    login = json.load(f)\n",
    "# Instantiate YelpAPI Variable\n",
    "yelp_api = YelpAPI(login['api-key'], timeout_s=5.0)"
   ]
  },
  {
   "cell_type": "code",
   "execution_count": 3,
   "id": "2d18e14c-2a04-4e0e-8018-7e730749dcf3",
   "metadata": {},
   "outputs": [],
   "source": [
    "# set our API call parameters \n",
    "LOCATION = 'Dallas, TX'\n",
    "TERM = 'BBQ'"
   ]
  },
  {
   "cell_type": "code",
   "execution_count": 4,
   "id": "adf036de-a49c-4e58-a54e-7cdd5b871f4f",
   "metadata": {},
   "outputs": [
    {
     "data": {
      "text/plain": [
       "'Data/results_in_progress_Dallas_BBQ.json'"
      ]
     },
     "execution_count": 4,
     "metadata": {},
     "output_type": "execute_result"
    }
   ],
   "source": [
    "# Specifying JSON_FILE filename (can include a folder)\n",
    "# include the search terms in the filename\n",
    "JSON_FILE = \"Data/results_in_progress_Dallas_BBQ.json\"\n",
    "JSON_FILE"
   ]
  },
  {
   "cell_type": "code",
   "execution_count": 5,
   "id": "b93a5d24-72e2-4b02-93bb-5f3f220eba06",
   "metadata": {},
   "outputs": [],
   "source": [
    "def create_json_file(JSON_FILE,  delete_if_exists=False):\n",
    "    \n",
    "    ## Check if JSON_FILE exists\n",
    "    file_exists = os.path.isfile(JSON_FILE)\n",
    "    \n",
    "    ## If it DOES exist:\n",
    "    if file_exists == True:\n",
    "        \n",
    "        ## Check if user wants to delete if exists\n",
    "        if delete_if_exists==True:\n",
    "            \n",
    "            print(f\"[!] {JSON_FILE} already exists. Deleting previous file...\")\n",
    "            ## delete file and confirm it no longer exits.\n",
    "            os.remove(JSON_FILE)\n",
    "            ## Recursive call to function after old file deleted\n",
    "            create_json_file(JSON_FILE,delete_if_exists=False)\n",
    "        else:\n",
    "            print(f\"[i] {JSON_FILE} already exists.\")            \n",
    "            \n",
    "            \n",
    "    ## If it does NOT exist:\n",
    "    else:\n",
    "        \n",
    "        ## INFORM USER AND SAVE EMPTY LIST\n",
    "        print(f\"[i] {JSON_FILE} not found. Saving empty list to new file.\")\n",
    "        \n",
    "        ## CREATE ANY NEEDED FOLDERS\n",
    "        # Get the Folder Name only\n",
    "        folder = os.path.dirname(JSON_FILE)\n",
    "        \n",
    "        ## If JSON_FILE included a folder:\n",
    "        if len(folder)>0:\n",
    "            # create the folder\n",
    "            os.makedirs(folder,exist_ok=True)\n",
    "        ## Save empty list to start the json file\n",
    "        with open(JSON_FILE,'w') as f:\n",
    "            json.dump([],f)"
   ]
  },
  {
   "cell_type": "code",
   "execution_count": 6,
   "id": "f982ce79-ff6a-4f0b-a06a-2a452acd88c4",
   "metadata": {},
   "outputs": [
    {
     "name": "stdout",
     "output_type": "stream",
     "text": [
      "[!] Data/results_in_progress_Dallas_BBQ.json already exists. Deleting previous file...\n",
      "[i] Data/results_in_progress_Dallas_BBQ.json not found. Saving empty list to new file.\n",
      "- 0 previous results found.\n"
     ]
    },
    {
     "data": {
      "text/plain": [
       "250"
      ]
     },
     "execution_count": 6,
     "metadata": {},
     "output_type": "execute_result"
    }
   ],
   "source": [
    "## Create a new empty json file (exist the previous if it exists)\n",
    "create_json_file(JSON_FILE, delete_if_exists=True)\n",
    "## Load previous results and use len of results for offset\n",
    "with open(JSON_FILE,'r') as f:\n",
    "    previous_results = json.load(f)\n",
    "    \n",
    "## set offset based on previous results\n",
    "n_results = len(previous_results)\n",
    "print(f'- {n_results} previous results found.')\n",
    "# use our yelp_api variable's search_query method to perform our API call\n",
    "results = yelp_api.search_query(location=LOCATION,\n",
    "                                term=TERM,\n",
    "                               offset=n_results)\n",
    "## How many results total?\n",
    "total_results = results['total']\n",
    "## How many did we get the details for?\n",
    "results_per_page = len(results['businesses'])\n",
    "# Use math.ceil to round up for the total number of pages of results.\n",
    "n_pages = math.ceil((results['total']-n_results)/ results_per_page)\n",
    "n_pages"
   ]
  },
  {
   "cell_type": "code",
   "execution_count": 7,
   "id": "6fc783a3-4b45-4503-9915-5d57030acaba",
   "metadata": {},
   "outputs": [
    {
     "data": {
      "application/vnd.jupyter.widget-view+json": {
       "model_id": "ee53c2e5020c4a0faa356d25881b33c4",
       "version_major": 2,
       "version_minor": 0
      },
      "text/plain": [
       "  0%|          | 0/250 [00:00<?, ?it/s]"
      ]
     },
     "metadata": {},
     "output_type": "display_data"
    },
    {
     "name": "stdout",
     "output_type": "stream",
     "text": [
      "Exceeded 1000 api calls. Stopping loop.\n"
     ]
    }
   ],
   "source": [
    "for i in tqdm_notebook( range(1,n_pages+1)):\n",
    "    \n",
    "    ## Read in results in progress file and check the length\n",
    "    with open(JSON_FILE, 'r') as f:\n",
    "        previous_results = json.load(f)\n",
    "    ## save number of results for to use as offset\n",
    "    n_results = len(previous_results)\n",
    "    \n",
    "    if (n_results + results_per_page) > 1000:\n",
    "        print('Exceeded 1000 api calls. Stopping loop.')\n",
    "        break\n",
    "    \n",
    "    ## use n_results as the OFFSET \n",
    "    results = yelp_api.search_query(location=LOCATION,\n",
    "                                    term=TERM, \n",
    "                                    offset=n_results)\n",
    "    \n",
    "    \n",
    "    \n",
    "    ## append new results and save to file\n",
    "    previous_results.extend(results['businesses'])\n",
    "    \n",
    "    # display(previous_results)\n",
    "    with open(JSON_FILE,'w') as f:\n",
    "        json.dump(previous_results,f)\n",
    "    \n",
    "    time.sleep(.2)"
   ]
  },
  {
   "cell_type": "code",
   "execution_count": 8,
   "id": "1778f081-84f4-4827-b30c-4e8c6d63ade9",
   "metadata": {},
   "outputs": [
    {
     "data": {
      "text/html": [
       "<div>\n",
       "<style scoped>\n",
       "    .dataframe tbody tr th:only-of-type {\n",
       "        vertical-align: middle;\n",
       "    }\n",
       "\n",
       "    .dataframe tbody tr th {\n",
       "        vertical-align: top;\n",
       "    }\n",
       "\n",
       "    .dataframe thead th {\n",
       "        text-align: right;\n",
       "    }\n",
       "</style>\n",
       "<table border=\"1\" class=\"dataframe\">\n",
       "  <thead>\n",
       "    <tr style=\"text-align: right;\">\n",
       "      <th></th>\n",
       "      <th>id</th>\n",
       "      <th>alias</th>\n",
       "      <th>name</th>\n",
       "      <th>image_url</th>\n",
       "      <th>is_closed</th>\n",
       "      <th>url</th>\n",
       "      <th>review_count</th>\n",
       "      <th>categories</th>\n",
       "      <th>rating</th>\n",
       "      <th>coordinates</th>\n",
       "      <th>transactions</th>\n",
       "      <th>price</th>\n",
       "      <th>location</th>\n",
       "      <th>phone</th>\n",
       "      <th>display_phone</th>\n",
       "      <th>distance</th>\n",
       "    </tr>\n",
       "  </thead>\n",
       "  <tbody>\n",
       "    <tr>\n",
       "      <th>0</th>\n",
       "      <td>sqhaTs9xc3G8OWHihGBipQ</td>\n",
       "      <td>terry-blacks-barbecue-dallas</td>\n",
       "      <td>Terry Black's Barbecue</td>\n",
       "      <td>https://s3-media1.fl.yelpcdn.com/bphoto/LD-QPz...</td>\n",
       "      <td>False</td>\n",
       "      <td>https://www.yelp.com/biz/terry-blacks-barbecue...</td>\n",
       "      <td>1982</td>\n",
       "      <td>[{'alias': 'bbq', 'title': 'Barbeque'}]</td>\n",
       "      <td>4.5</td>\n",
       "      <td>{'latitude': 32.78488, 'longitude': -96.779840...</td>\n",
       "      <td>[delivery]</td>\n",
       "      <td>$$</td>\n",
       "      <td>{'address1': '3025 Main St', 'address2': None,...</td>\n",
       "      <td>+14693990081</td>\n",
       "      <td>(469) 399-0081</td>\n",
       "      <td>6322.907117</td>\n",
       "    </tr>\n",
       "    <tr>\n",
       "      <th>1</th>\n",
       "      <td>ycL1qii6EpKXoLgMMboBIQ</td>\n",
       "      <td>pecan-lodge-dallas-3</td>\n",
       "      <td>Pecan Lodge</td>\n",
       "      <td>https://s3-media2.fl.yelpcdn.com/bphoto/8g7yxW...</td>\n",
       "      <td>False</td>\n",
       "      <td>https://www.yelp.com/biz/pecan-lodge-dallas-3?...</td>\n",
       "      <td>6487</td>\n",
       "      <td>[{'alias': 'sandwiches', 'title': 'Sandwiches'...</td>\n",
       "      <td>4.5</td>\n",
       "      <td>{'latitude': 32.78371943063679, 'longitude': -...</td>\n",
       "      <td>[delivery]</td>\n",
       "      <td>$$</td>\n",
       "      <td>{'address1': '2702 Main St', 'address2': '', '...</td>\n",
       "      <td>+12147488900</td>\n",
       "      <td>(214) 748-8900</td>\n",
       "      <td>6346.090815</td>\n",
       "    </tr>\n",
       "    <tr>\n",
       "      <th>2</th>\n",
       "      <td>DtYMJeVbFgGXroWYUX5P4Q</td>\n",
       "      <td>hutchins-bbq-frisco-11</td>\n",
       "      <td>Hutchins BBQ</td>\n",
       "      <td>https://s3-media4.fl.yelpcdn.com/bphoto/Wk_OK8...</td>\n",
       "      <td>False</td>\n",
       "      <td>https://www.yelp.com/biz/hutchins-bbq-frisco-1...</td>\n",
       "      <td>2291</td>\n",
       "      <td>[{'alias': 'bbq', 'title': 'Barbeque'}, {'alia...</td>\n",
       "      <td>4.5</td>\n",
       "      <td>{'latitude': 33.15463, 'longitude': -96.80443}</td>\n",
       "      <td>[delivery]</td>\n",
       "      <td>$$</td>\n",
       "      <td>{'address1': '9225 Preston Rd', 'address2': ''...</td>\n",
       "      <td>+19723772046</td>\n",
       "      <td>(972) 377-2046</td>\n",
       "      <td>35092.077469</td>\n",
       "    </tr>\n",
       "    <tr>\n",
       "      <th>3</th>\n",
       "      <td>CCtb60dWnUn9tXIS26s2Yw</td>\n",
       "      <td>cattleack-barbeque-dallas</td>\n",
       "      <td>Cattleack Barbeque</td>\n",
       "      <td>https://s3-media2.fl.yelpcdn.com/bphoto/zfZat-...</td>\n",
       "      <td>False</td>\n",
       "      <td>https://www.yelp.com/biz/cattleack-barbeque-da...</td>\n",
       "      <td>871</td>\n",
       "      <td>[{'alias': 'bbq', 'title': 'Barbeque'}]</td>\n",
       "      <td>4.5</td>\n",
       "      <td>{'latitude': 32.9339209, 'longitude': -96.8365...</td>\n",
       "      <td>[]</td>\n",
       "      <td>$$</td>\n",
       "      <td>{'address1': '13628 Gamma Rd', 'address2': Non...</td>\n",
       "      <td>+19728050999</td>\n",
       "      <td>(972) 805-0999</td>\n",
       "      <td>11143.408689</td>\n",
       "    </tr>\n",
       "    <tr>\n",
       "      <th>4</th>\n",
       "      <td>GC8QmhLYqm5bGNPuyrvFvg</td>\n",
       "      <td>lockhart-smokehouse-dallas</td>\n",
       "      <td>Lockhart Smokehouse</td>\n",
       "      <td>https://s3-media3.fl.yelpcdn.com/bphoto/7lnUB-...</td>\n",
       "      <td>False</td>\n",
       "      <td>https://www.yelp.com/biz/lockhart-smokehouse-d...</td>\n",
       "      <td>2251</td>\n",
       "      <td>[{'alias': 'bbq', 'title': 'Barbeque'}, {'alia...</td>\n",
       "      <td>4.0</td>\n",
       "      <td>{'latitude': 32.7493251, 'longitude': -96.828514}</td>\n",
       "      <td>[delivery]</td>\n",
       "      <td>$$</td>\n",
       "      <td>{'address1': '400 W Davis St', 'address2': '',...</td>\n",
       "      <td>+12149445521</td>\n",
       "      <td>(214) 944-5521</td>\n",
       "      <td>10316.560949</td>\n",
       "    </tr>\n",
       "  </tbody>\n",
       "</table>\n",
       "</div>"
      ],
      "text/plain": [
       "                       id                         alias  \\\n",
       "0  sqhaTs9xc3G8OWHihGBipQ  terry-blacks-barbecue-dallas   \n",
       "1  ycL1qii6EpKXoLgMMboBIQ          pecan-lodge-dallas-3   \n",
       "2  DtYMJeVbFgGXroWYUX5P4Q        hutchins-bbq-frisco-11   \n",
       "3  CCtb60dWnUn9tXIS26s2Yw     cattleack-barbeque-dallas   \n",
       "4  GC8QmhLYqm5bGNPuyrvFvg    lockhart-smokehouse-dallas   \n",
       "\n",
       "                     name                                          image_url  \\\n",
       "0  Terry Black's Barbecue  https://s3-media1.fl.yelpcdn.com/bphoto/LD-QPz...   \n",
       "1             Pecan Lodge  https://s3-media2.fl.yelpcdn.com/bphoto/8g7yxW...   \n",
       "2            Hutchins BBQ  https://s3-media4.fl.yelpcdn.com/bphoto/Wk_OK8...   \n",
       "3      Cattleack Barbeque  https://s3-media2.fl.yelpcdn.com/bphoto/zfZat-...   \n",
       "4     Lockhart Smokehouse  https://s3-media3.fl.yelpcdn.com/bphoto/7lnUB-...   \n",
       "\n",
       "   is_closed                                                url  review_count  \\\n",
       "0      False  https://www.yelp.com/biz/terry-blacks-barbecue...          1982   \n",
       "1      False  https://www.yelp.com/biz/pecan-lodge-dallas-3?...          6487   \n",
       "2      False  https://www.yelp.com/biz/hutchins-bbq-frisco-1...          2291   \n",
       "3      False  https://www.yelp.com/biz/cattleack-barbeque-da...           871   \n",
       "4      False  https://www.yelp.com/biz/lockhart-smokehouse-d...          2251   \n",
       "\n",
       "                                          categories  rating  \\\n",
       "0            [{'alias': 'bbq', 'title': 'Barbeque'}]     4.5   \n",
       "1  [{'alias': 'sandwiches', 'title': 'Sandwiches'...     4.5   \n",
       "2  [{'alias': 'bbq', 'title': 'Barbeque'}, {'alia...     4.5   \n",
       "3            [{'alias': 'bbq', 'title': 'Barbeque'}]     4.5   \n",
       "4  [{'alias': 'bbq', 'title': 'Barbeque'}, {'alia...     4.0   \n",
       "\n",
       "                                         coordinates transactions price  \\\n",
       "0  {'latitude': 32.78488, 'longitude': -96.779840...   [delivery]    $$   \n",
       "1  {'latitude': 32.78371943063679, 'longitude': -...   [delivery]    $$   \n",
       "2     {'latitude': 33.15463, 'longitude': -96.80443}   [delivery]    $$   \n",
       "3  {'latitude': 32.9339209, 'longitude': -96.8365...           []    $$   \n",
       "4  {'latitude': 32.7493251, 'longitude': -96.828514}   [delivery]    $$   \n",
       "\n",
       "                                            location         phone  \\\n",
       "0  {'address1': '3025 Main St', 'address2': None,...  +14693990081   \n",
       "1  {'address1': '2702 Main St', 'address2': '', '...  +12147488900   \n",
       "2  {'address1': '9225 Preston Rd', 'address2': ''...  +19723772046   \n",
       "3  {'address1': '13628 Gamma Rd', 'address2': Non...  +19728050999   \n",
       "4  {'address1': '400 W Davis St', 'address2': '',...  +12149445521   \n",
       "\n",
       "    display_phone      distance  \n",
       "0  (469) 399-0081   6322.907117  \n",
       "1  (214) 748-8900   6346.090815  \n",
       "2  (972) 377-2046  35092.077469  \n",
       "3  (972) 805-0999  11143.408689  \n",
       "4  (214) 944-5521  10316.560949  "
      ]
     },
     "metadata": {},
     "output_type": "display_data"
    },
    {
     "data": {
      "text/html": [
       "<div>\n",
       "<style scoped>\n",
       "    .dataframe tbody tr th:only-of-type {\n",
       "        vertical-align: middle;\n",
       "    }\n",
       "\n",
       "    .dataframe tbody tr th {\n",
       "        vertical-align: top;\n",
       "    }\n",
       "\n",
       "    .dataframe thead th {\n",
       "        text-align: right;\n",
       "    }\n",
       "</style>\n",
       "<table border=\"1\" class=\"dataframe\">\n",
       "  <thead>\n",
       "    <tr style=\"text-align: right;\">\n",
       "      <th></th>\n",
       "      <th>id</th>\n",
       "      <th>alias</th>\n",
       "      <th>name</th>\n",
       "      <th>image_url</th>\n",
       "      <th>is_closed</th>\n",
       "      <th>url</th>\n",
       "      <th>review_count</th>\n",
       "      <th>categories</th>\n",
       "      <th>rating</th>\n",
       "      <th>coordinates</th>\n",
       "      <th>transactions</th>\n",
       "      <th>price</th>\n",
       "      <th>location</th>\n",
       "      <th>phone</th>\n",
       "      <th>display_phone</th>\n",
       "      <th>distance</th>\n",
       "    </tr>\n",
       "  </thead>\n",
       "  <tbody>\n",
       "    <tr>\n",
       "      <th>995</th>\n",
       "      <td>dMPK1CtkGRVJIV_EcvLhkw</td>\n",
       "      <td>golden-chinese-bbq-arlington</td>\n",
       "      <td>Golden Chinese BBQ</td>\n",
       "      <td>https://s3-media4.fl.yelpcdn.com/bphoto/ixPV-z...</td>\n",
       "      <td>False</td>\n",
       "      <td>https://www.yelp.com/biz/golden-chinese-bbq-ar...</td>\n",
       "      <td>101</td>\n",
       "      <td>[{'alias': 'chinese', 'title': 'Chinese'}, {'a...</td>\n",
       "      <td>3.5</td>\n",
       "      <td>{'latitude': 32.70752031519901, 'longitude': -...</td>\n",
       "      <td>[delivery, pickup]</td>\n",
       "      <td>$$</td>\n",
       "      <td>{'address1': '1818 E Pioneer Pkwy', 'address2'...</td>\n",
       "      <td>+18177953772</td>\n",
       "      <td>(817) 795-3772</td>\n",
       "      <td>30074.354673</td>\n",
       "    </tr>\n",
       "    <tr>\n",
       "      <th>996</th>\n",
       "      <td>8xXxC5wnsmdqIIa-6qhdVQ</td>\n",
       "      <td>bols-plano-4</td>\n",
       "      <td>Bols</td>\n",
       "      <td>https://s3-media1.fl.yelpcdn.com/bphoto/H9JrNk...</td>\n",
       "      <td>False</td>\n",
       "      <td>https://www.yelp.com/biz/bols-plano-4?adjust_c...</td>\n",
       "      <td>226</td>\n",
       "      <td>[{'alias': 'ramen', 'title': 'Ramen'}, {'alias...</td>\n",
       "      <td>4.5</td>\n",
       "      <td>{'latitude': 33.0277409085941, 'longitude': -9...</td>\n",
       "      <td>[delivery, pickup]</td>\n",
       "      <td>$$</td>\n",
       "      <td>{'address1': '6505 W Park Blvd', 'address2': '...</td>\n",
       "      <td>+12145013333</td>\n",
       "      <td>(214) 501-3333</td>\n",
       "      <td>21322.011095</td>\n",
       "    </tr>\n",
       "    <tr>\n",
       "      <th>997</th>\n",
       "      <td>0zbf1wKwGhf7TfLccyop5w</td>\n",
       "      <td>mandarin-by-howard-wang-dallas-2</td>\n",
       "      <td>Mandarin by Howard Wang</td>\n",
       "      <td>https://s3-media1.fl.yelpcdn.com/bphoto/VjKccc...</td>\n",
       "      <td>False</td>\n",
       "      <td>https://www.yelp.com/biz/mandarin-by-howard-wa...</td>\n",
       "      <td>48</td>\n",
       "      <td>[{'alias': 'chinese', 'title': 'Chinese'}, {'a...</td>\n",
       "      <td>3.5</td>\n",
       "      <td>{'latitude': 32.962859, 'longitude': -96.790258}</td>\n",
       "      <td>[delivery, pickup]</td>\n",
       "      <td>NaN</td>\n",
       "      <td>{'address1': '6859 Arapaho Rd', 'address2': 'S...</td>\n",
       "      <td>+12144846369</td>\n",
       "      <td>(214) 484-6369</td>\n",
       "      <td>13808.060878</td>\n",
       "    </tr>\n",
       "    <tr>\n",
       "      <th>998</th>\n",
       "      <td>No38yzwts4LbtysMv1Pq5g</td>\n",
       "      <td>williams-fried-chicken-dallas-17</td>\n",
       "      <td>Williams Fried Chicken</td>\n",
       "      <td></td>\n",
       "      <td>False</td>\n",
       "      <td>https://www.yelp.com/biz/williams-fried-chicke...</td>\n",
       "      <td>1</td>\n",
       "      <td>[{'alias': 'chicken_wings', 'title': 'Chicken ...</td>\n",
       "      <td>3.0</td>\n",
       "      <td>{'latitude': 32.694978, 'longitude': -96.772653}</td>\n",
       "      <td>[delivery, pickup]</td>\n",
       "      <td>NaN</td>\n",
       "      <td>{'address1': '4875 Sunnyvale St', 'address2': ...</td>\n",
       "      <td>+12143755055</td>\n",
       "      <td>(214) 375-5055</td>\n",
       "      <td>16252.379247</td>\n",
       "    </tr>\n",
       "    <tr>\n",
       "      <th>999</th>\n",
       "      <td>noTVgK8NaWeFixAGlmpVdw</td>\n",
       "      <td>wu-wei-din-chinese-cuisine-plano</td>\n",
       "      <td>Wu Wei Din Chinese Cuisine</td>\n",
       "      <td>https://s3-media4.fl.yelpcdn.com/bphoto/A4_LOd...</td>\n",
       "      <td>False</td>\n",
       "      <td>https://www.yelp.com/biz/wu-wei-din-chinese-cu...</td>\n",
       "      <td>1170</td>\n",
       "      <td>[{'alias': 'taiwanese', 'title': 'Taiwanese'},...</td>\n",
       "      <td>4.5</td>\n",
       "      <td>{'latitude': 33.020071, 'longitude': -96.75138...</td>\n",
       "      <td>[delivery, pickup]</td>\n",
       "      <td>$$</td>\n",
       "      <td>{'address1': '2909 W 15th St', 'address2': Non...</td>\n",
       "      <td>+19729851688</td>\n",
       "      <td>(972) 985-1688</td>\n",
       "      <td>20645.375409</td>\n",
       "    </tr>\n",
       "  </tbody>\n",
       "</table>\n",
       "</div>"
      ],
      "text/plain": [
       "                         id                             alias  \\\n",
       "995  dMPK1CtkGRVJIV_EcvLhkw      golden-chinese-bbq-arlington   \n",
       "996  8xXxC5wnsmdqIIa-6qhdVQ                      bols-plano-4   \n",
       "997  0zbf1wKwGhf7TfLccyop5w  mandarin-by-howard-wang-dallas-2   \n",
       "998  No38yzwts4LbtysMv1Pq5g  williams-fried-chicken-dallas-17   \n",
       "999  noTVgK8NaWeFixAGlmpVdw  wu-wei-din-chinese-cuisine-plano   \n",
       "\n",
       "                           name  \\\n",
       "995          Golden Chinese BBQ   \n",
       "996                        Bols   \n",
       "997     Mandarin by Howard Wang   \n",
       "998      Williams Fried Chicken   \n",
       "999  Wu Wei Din Chinese Cuisine   \n",
       "\n",
       "                                             image_url  is_closed  \\\n",
       "995  https://s3-media4.fl.yelpcdn.com/bphoto/ixPV-z...      False   \n",
       "996  https://s3-media1.fl.yelpcdn.com/bphoto/H9JrNk...      False   \n",
       "997  https://s3-media1.fl.yelpcdn.com/bphoto/VjKccc...      False   \n",
       "998                                                         False   \n",
       "999  https://s3-media4.fl.yelpcdn.com/bphoto/A4_LOd...      False   \n",
       "\n",
       "                                                   url  review_count  \\\n",
       "995  https://www.yelp.com/biz/golden-chinese-bbq-ar...           101   \n",
       "996  https://www.yelp.com/biz/bols-plano-4?adjust_c...           226   \n",
       "997  https://www.yelp.com/biz/mandarin-by-howard-wa...            48   \n",
       "998  https://www.yelp.com/biz/williams-fried-chicke...             1   \n",
       "999  https://www.yelp.com/biz/wu-wei-din-chinese-cu...          1170   \n",
       "\n",
       "                                            categories  rating  \\\n",
       "995  [{'alias': 'chinese', 'title': 'Chinese'}, {'a...     3.5   \n",
       "996  [{'alias': 'ramen', 'title': 'Ramen'}, {'alias...     4.5   \n",
       "997  [{'alias': 'chinese', 'title': 'Chinese'}, {'a...     3.5   \n",
       "998  [{'alias': 'chicken_wings', 'title': 'Chicken ...     3.0   \n",
       "999  [{'alias': 'taiwanese', 'title': 'Taiwanese'},...     4.5   \n",
       "\n",
       "                                           coordinates        transactions  \\\n",
       "995  {'latitude': 32.70752031519901, 'longitude': -...  [delivery, pickup]   \n",
       "996  {'latitude': 33.0277409085941, 'longitude': -9...  [delivery, pickup]   \n",
       "997   {'latitude': 32.962859, 'longitude': -96.790258}  [delivery, pickup]   \n",
       "998   {'latitude': 32.694978, 'longitude': -96.772653}  [delivery, pickup]   \n",
       "999  {'latitude': 33.020071, 'longitude': -96.75138...  [delivery, pickup]   \n",
       "\n",
       "    price                                           location         phone  \\\n",
       "995    $$  {'address1': '1818 E Pioneer Pkwy', 'address2'...  +18177953772   \n",
       "996    $$  {'address1': '6505 W Park Blvd', 'address2': '...  +12145013333   \n",
       "997   NaN  {'address1': '6859 Arapaho Rd', 'address2': 'S...  +12144846369   \n",
       "998   NaN  {'address1': '4875 Sunnyvale St', 'address2': ...  +12143755055   \n",
       "999    $$  {'address1': '2909 W 15th St', 'address2': Non...  +19729851688   \n",
       "\n",
       "      display_phone      distance  \n",
       "995  (817) 795-3772  30074.354673  \n",
       "996  (214) 501-3333  21322.011095  \n",
       "997  (214) 484-6369  13808.060878  \n",
       "998  (214) 375-5055  16252.379247  \n",
       "999  (972) 985-1688  20645.375409  "
      ]
     },
     "metadata": {},
     "output_type": "display_data"
    }
   ],
   "source": [
    "# load final results\n",
    "final_df = pd.read_json(JSON_FILE)\n",
    "display(final_df.head(), final_df.tail())"
   ]
  },
  {
   "cell_type": "code",
   "execution_count": 9,
   "id": "3d73de63-d89f-46e3-8183-9cddc6d85aa9",
   "metadata": {},
   "outputs": [
    {
     "data": {
      "text/plain": [
       "1"
      ]
     },
     "execution_count": 9,
     "metadata": {},
     "output_type": "execute_result"
    }
   ],
   "source": [
    "# check for duplicate ID's \n",
    "final_df.duplicated(subset='id').sum()"
   ]
  },
  {
   "cell_type": "code",
   "execution_count": null,
   "id": "ea9874e8-c651-4610-ace8-5cdc5584920c",
   "metadata": {},
   "outputs": [],
   "source": [
    "final_df.to_csv(\"Data/final_df.csv\",index=False)"
   ]
  }
 ],
 "metadata": {
  "kernelspec": {
   "display_name": "Python 3 (ipykernel)",
   "language": "python",
   "name": "python3"
  },
  "language_info": {
   "codemirror_mode": {
    "name": "ipython",
    "version": 3
   },
   "file_extension": ".py",
   "mimetype": "text/x-python",
   "name": "python",
   "nbconvert_exporter": "python",
   "pygments_lexer": "ipython3",
   "version": "3.10.10"
  },
  "widgets": {
   "application/vnd.jupyter.widget-state+json": {
    "state": {
     "08dcc2056359479fbaa0c43de7afbfdf": {
      "model_module": "@jupyter-widgets/controls",
      "model_module_version": "2.0.0",
      "model_name": "HTMLModel",
      "state": {
       "layout": "IPY_MODEL_d4faac27434c4fb3a10c01f89c5edb6d",
       "style": "IPY_MODEL_8d3bad522ff44a9dada7b49fbebe278c",
       "value": " 50/250 [01:00&lt;05:25,  1.63s/it]"
      }
     },
     "29edaf60346f478fbec817e850a47f20": {
      "model_module": "@jupyter-widgets/controls",
      "model_module_version": "2.0.0",
      "model_name": "ProgressStyleModel",
      "state": {
       "description_width": ""
      }
     },
     "57445c96341049c5b35f67ccbdee7c12": {
      "model_module": "@jupyter-widgets/base",
      "model_module_version": "2.0.0",
      "model_name": "LayoutModel",
      "state": {}
     },
     "7a0ceb960e6c4f67ad9a2559b21d5fc5": {
      "model_module": "@jupyter-widgets/base",
      "model_module_version": "2.0.0",
      "model_name": "LayoutModel",
      "state": {}
     },
     "7cc078fcc4c64e439669f3b6066c6d47": {
      "model_module": "@jupyter-widgets/controls",
      "model_module_version": "2.0.0",
      "model_name": "HTMLModel",
      "state": {
       "layout": "IPY_MODEL_57445c96341049c5b35f67ccbdee7c12",
       "style": "IPY_MODEL_f3deaac6cc5f48e19efd312f251354d5",
       "value": " 20%"
      }
     },
     "8d3bad522ff44a9dada7b49fbebe278c": {
      "model_module": "@jupyter-widgets/controls",
      "model_module_version": "2.0.0",
      "model_name": "HTMLStyleModel",
      "state": {
       "description_width": "",
       "font_size": null,
       "text_color": null
      }
     },
     "c992d26d530b4af29a5f7624cb8a6f58": {
      "model_module": "@jupyter-widgets/base",
      "model_module_version": "2.0.0",
      "model_name": "LayoutModel",
      "state": {}
     },
     "d4faac27434c4fb3a10c01f89c5edb6d": {
      "model_module": "@jupyter-widgets/base",
      "model_module_version": "2.0.0",
      "model_name": "LayoutModel",
      "state": {}
     },
     "ebc434cd6f09422982f7b4ec0d2a894d": {
      "model_module": "@jupyter-widgets/controls",
      "model_module_version": "2.0.0",
      "model_name": "FloatProgressModel",
      "state": {
       "bar_style": "danger",
       "layout": "IPY_MODEL_c992d26d530b4af29a5f7624cb8a6f58",
       "max": 250,
       "style": "IPY_MODEL_29edaf60346f478fbec817e850a47f20",
       "value": 50
      }
     },
     "ee53c2e5020c4a0faa356d25881b33c4": {
      "model_module": "@jupyter-widgets/controls",
      "model_module_version": "2.0.0",
      "model_name": "HBoxModel",
      "state": {
       "children": [
        "IPY_MODEL_7cc078fcc4c64e439669f3b6066c6d47",
        "IPY_MODEL_ebc434cd6f09422982f7b4ec0d2a894d",
        "IPY_MODEL_08dcc2056359479fbaa0c43de7afbfdf"
       ],
       "layout": "IPY_MODEL_7a0ceb960e6c4f67ad9a2559b21d5fc5"
      }
     },
     "f3deaac6cc5f48e19efd312f251354d5": {
      "model_module": "@jupyter-widgets/controls",
      "model_module_version": "2.0.0",
      "model_name": "HTMLStyleModel",
      "state": {
       "description_width": "",
       "font_size": null,
       "text_color": null
      }
     }
    },
    "version_major": 2,
    "version_minor": 0
   }
  }
 },
 "nbformat": 4,
 "nbformat_minor": 5
}
